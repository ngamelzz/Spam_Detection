{
 "cells": [
  {
   "cell_type": "code",
   "execution_count": 1,
   "metadata": {},
   "outputs": [],
   "source": [
    "import pandas as pd\n",
    "from unidecode import unidecode\n",
    "fo = pd.read_excel('data/karakter.xlsx', sheet_name='Sheet1') #load data\n",
    "x = fo['karakter'].tolist() #\n",
    "y = fo['replace'].tolist()\n",
    "def gantiKarakter(str, x=x, y=y):\n",
    "    for i in range(len(x)):\n",
    "        if i == 0:\n",
    "            n_word = str\n",
    "        n_word = n_word.replace(x[i],y[i])\n",
    "    return unidecode(n_word).lower()"
   ]
  },
  {
   "cell_type": "markdown",
   "metadata": {},
   "source": [
    "# Testing"
   ]
  },
  {
   "cell_type": "code",
   "execution_count": 2,
   "metadata": {},
   "outputs": [
    {
     "data": {
      "text/plain": [
       "'cccccc malu sama berat badan yang ga banget? susah cari baju dan celana karena ukuran badan yang over? aku mau bongkar nih rahasia menurunkan berat badan yang efektif dan hasilnya pun permanen. hanya di#@dr.nelfa.fashionherbal kita bisa menurunkan berat badan yang efektif.'"
      ]
     },
     "execution_count": 2,
     "metadata": {},
     "output_type": "execute_result"
    }
   ],
   "source": [
    "z2= r\"\"\"¢¢¢¢¢¢ MÁĹÚ ŚÁMÁ ßĔŔÁŤ ßÁĎÁŃ ŶÁŃĞ ĞÁ ßÁŃĞĔŤ? ŚÚŚÁĤ ČÁŔĨ ßÁĴÚ ĎÁŃ ČĔĹÁŃÁ ĶÁŔĔŃÁ ÚĶÚŔÁŃ ßÁĎÁŃ ŶÁŃĞ oVĔŔ? ÁĶÚ MÁÚ ßoŃĞĶÁŔ ŃĨĤ ŔÁĤÁŚĨÁ MĔŃÚŔÚŃĶÁŃ ßĔŔÁŤ ßÁĎÁŃ ŶÁŃĞ ĔŦĔĶŤĨŦ ĎÁŃ ĤÁŚĨĹŃŶÁ PÚŃ PĔŔMÁŃĔŃ. ĤÁŃŶÁ ĎĨ#@dr.nelfa.fashionherbal ĶĨŤÁ ßĨŚÁ MĔŃÚŔÚŃĶÁŃ ßĔŔÁŤ ßÁĎÁŃ ŶÁŃĞ ĔŦĔĶŤĨŦ.\"\"\"\n",
    "gantiKarakter(z2)"
   ]
  },
  {
   "cell_type": "code",
   "execution_count": null,
   "metadata": {},
   "outputs": [],
   "source": []
  },
  {
   "cell_type": "code",
   "execution_count": 3,
   "metadata": {},
   "outputs": [
    {
     "data": {
      "text/plain": [
       "{1: '1', 2: '2', 3: '3'}"
      ]
     },
     "execution_count": 3,
     "metadata": {},
     "output_type": "execute_result"
    }
   ],
   "source": [
    "a = [1,2,3,2,3]\n",
    "b = ['1','2','3','2','3']\n",
    "\n",
    "c = dict(zip(a,b))\n",
    "c"
   ]
  },
  {
   "cell_type": "code",
   "execution_count": 4,
   "metadata": {},
   "outputs": [],
   "source": [
    "import replace_karakter as rk"
   ]
  },
  {
   "cell_type": "code",
   "execution_count": 5,
   "metadata": {},
   "outputs": [
    {
     "data": {
      "text/plain": [
       "'cccccc malu sama berat badan yang ga banget? susah cari baju dan celana karena ukuran badan yang over? aku mau bongkar nih rahasia menurunkan berat badan yang efektif dan hasilnya pun permanen. hanya di#@dr.nelfa.fashionherbal kita bisa menurunkan berat badan yang efektif.'"
      ]
     },
     "execution_count": 5,
     "metadata": {},
     "output_type": "execute_result"
    }
   ],
   "source": [
    "rk.NormalisasiKarakter(z2)"
   ]
  },
  {
   "cell_type": "code",
   "execution_count": null,
   "metadata": {},
   "outputs": [],
   "source": []
  }
 ],
 "metadata": {
  "kernelspec": {
   "display_name": "Python 3",
   "language": "python",
   "name": "python3"
  },
  "language_info": {
   "codemirror_mode": {
    "name": "ipython",
    "version": 3
   },
   "file_extension": ".py",
   "mimetype": "text/x-python",
   "name": "python",
   "nbconvert_exporter": "python",
   "pygments_lexer": "ipython3",
   "version": "3.7.6"
  }
 },
 "nbformat": 4,
 "nbformat_minor": 2
}
