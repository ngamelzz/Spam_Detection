{
 "cells": [
  {
   "cell_type": "code",
   "execution_count": 1,
   "metadata": {},
   "outputs": [],
   "source": [
    "import json"
   ]
  },
  {
   "cell_type": "code",
   "execution_count": 5,
   "metadata": {},
   "outputs": [],
   "source": [
    "def getData(alamat):\n",
    "    lineList = list()\n",
    "    with open(alamat, encoding = \"ISO-8859-1\") as f:\n",
    "        for line in f:\n",
    "            lineList.append(line.rstrip('\\n'))\n",
    "    return lineList"
   ]
  },
  {
   "cell_type": "code",
   "execution_count": 9,
   "metadata": {},
   "outputs": [],
   "source": [
    "# data = getData(\"kata-dasar.txt\")\n",
    "\n",
    "# with open(\"kata-dasar.json\", 'w') as f:\n",
    "#     json.dump(data, f)"
   ]
  },
  {
   "cell_type": "code",
   "execution_count": 19,
   "metadata": {},
   "outputs": [],
   "source": [
    "# k = getData(\"last_use_k.txt\")\n",
    "# r = getData(\"last_use_r.txt\")\n",
    "# dict_ =dict()\n",
    "# for a, b in zip(k, r):\n",
    "#     dict_.update( {a : b} )\n",
    "# dict_"
   ]
  },
  {
   "cell_type": "code",
   "execution_count": 18,
   "metadata": {},
   "outputs": [],
   "source": [
    "# with open(\"last_use.json\", 'w') as f:\n",
    "#     json.dump(dict_, f)"
   ]
  },
  {
   "cell_type": "code",
   "execution_count": 24,
   "metadata": {},
   "outputs": [],
   "source": [
    "# data = getData(\"last_use_aneh.txt\")#last_use_aneh\n",
    "# with open(\"fail_stem.json\", 'w') as f:\n",
    "#     json.dump(data, f)"
   ]
  }
 ],
 "metadata": {
  "kernelspec": {
   "display_name": "Python 3",
   "language": "python",
   "name": "python3"
  },
  "language_info": {
   "codemirror_mode": {
    "name": "ipython",
    "version": 3
   },
   "file_extension": ".py",
   "mimetype": "text/x-python",
   "name": "python",
   "nbconvert_exporter": "python",
   "pygments_lexer": "ipython3",
   "version": "3.7.3"
  }
 },
 "nbformat": 4,
 "nbformat_minor": 2
}
