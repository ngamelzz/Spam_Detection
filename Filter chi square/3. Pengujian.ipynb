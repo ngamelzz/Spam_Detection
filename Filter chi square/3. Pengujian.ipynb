{
 "cells": [
  {
   "cell_type": "code",
   "execution_count": 3,
   "metadata": {},
   "outputs": [],
   "source": [
    "import pandas as pd\n",
    "from joblib import load\n",
    "from modulku import praproses as pps, StemNstopW as stm\n",
    "from replace import normalisasi as nrm"
   ]
  },
  {
   "cell_type": "code",
   "execution_count": 4,
   "metadata": {},
   "outputs": [],
   "source": [
    "def xx (teks):\n",
    "    if type(teks) is not str:\n",
    "        teks = str(teks)\n",
    "    teks = pps.preprocessing(teks)\n",
    "    teks = nrm.normalisasi(teks)\n",
    "    teks = stm.stemmer_kata(teks)\n",
    "    teks = stm.stop_word(teks)\n",
    "    return teks\n",
    "\n",
    "def praproses (teks):\n",
    "    if type(teks) == list:\n",
    "        print(\"list\")\n",
    "        l = list()\n",
    "        for i in teks:\n",
    "            l.append(xx(i))\n",
    "        return l\n",
    "    else:\n",
    "        return [xx(teks)]"
   ]
  },
  {
   "cell_type": "markdown",
   "metadata": {},
   "source": [
    "# Load Model"
   ]
  },
  {
   "cell_type": "code",
   "execution_count": 5,
   "metadata": {},
   "outputs": [],
   "source": [
    "tfidf = load(\"model/tfidf.w\")\n",
    "svm = load(\"model/svm.m\") #\n",
    "mnb = load(\"model/mnb.m\")"
   ]
  },
  {
   "cell_type": "markdown",
   "metadata": {},
   "source": [
    "# Load Data Uji"
   ]
  },
  {
   "cell_type": "code",
   "execution_count": 6,
   "metadata": {},
   "outputs": [
    {
     "data": {
      "text/plain": [
       "424"
      ]
     },
     "execution_count": 6,
     "metadata": {},
     "output_type": "execute_result"
    }
   ],
   "source": [
    "#data_uji_253_spam_bersih\n",
    "data_uji = pd.read_excel(\"komentar/data_1_labeled.xlsx\") #data_1.xlsx\n",
    "data_uji = data_uji.fillna(\" \")\n",
    "komentar = data_uji.komentar.tolist()\n",
    "label = data_uji.label.tolist()\n",
    "# data_uji\n",
    "len(data_uji)"
   ]
  },
  {
   "cell_type": "markdown",
   "metadata": {},
   "source": [
    "# Melakukan Prediksi terhadap data uji"
   ]
  },
  {
   "cell_type": "code",
   "execution_count": 7,
   "metadata": {},
   "outputs": [],
   "source": [
    "# komentar_praproses = praproses(komentar)\n",
    "hasil_predisksi_svm = svm.predict(tfidf.transform(komentar))\n",
    "hasil_predisksi_mnb = mnb.predict(tfidf.transform(komentar))"
   ]
  },
  {
   "cell_type": "code",
   "execution_count": 8,
   "metadata": {},
   "outputs": [],
   "source": [
    "# dictt = {\n",
    "    \n",
    "#     \"label svm\":hasil_predisksi_svm,\n",
    "#     \"label mnb\":hasil_predisksi_mnb,\n",
    "#     \"komentar\":komentar_praproses,\n",
    "#     \"komentar lama\":komentar\n",
    "# }\n",
    "# df = pd.DataFrame.from_dict(dictt)\n",
    "# df.to_excel(\"komentar/data_1_labeled.xlsx\")\n",
    "# df"
   ]
  },
  {
   "cell_type": "markdown",
   "metadata": {},
   "source": [
    "# Confusion Matrix"
   ]
  },
  {
   "cell_type": "code",
   "execution_count": 18,
   "metadata": {},
   "outputs": [
    {
     "name": "stdout",
     "output_type": "stream",
     "text": [
      "spam\n",
      "non spam\n"
     ]
    }
   ],
   "source": [
    "from sklearn.metrics import confusion_matrix\n",
    "from sklearn.metrics import accuracy_score\n",
    "# labels = list(reversed(list(set(label))))\n",
    "labels = list(set(label))\n",
    "y_true = label\n",
    "for i in labels:\n",
    "    print(i)"
   ]
  },
  {
   "cell_type": "code",
   "execution_count": 19,
   "metadata": {},
   "outputs": [],
   "source": [
    "# y_true"
   ]
  },
  {
   "cell_type": "markdown",
   "metadata": {},
   "source": [
    "## 1. MNB"
   ]
  },
  {
   "cell_type": "code",
   "execution_count": 20,
   "metadata": {},
   "outputs": [
    {
     "name": "stdout",
     "output_type": "stream",
     "text": [
      "[[ 32   2]\n",
      " [ 62 328]]\n",
      " accuracy: 0.85\n",
      "precision: 0.9939393939393939\n",
      "   recall: 0.841025641025641\n",
      "       f1: 0.9111111111111112\n"
     ]
    }
   ],
   "source": [
    "y_pred = hasil_predisksi_mnb\n",
    "cf = confusion_matrix(y_true, y_pred, labels=labels)\n",
    "print(cf)\n",
    "tn, fp, fn, tp = cf.ravel()\n",
    "\n",
    "precision = tp/(tp+fp)\n",
    "recall = tp/(tp+fn)\n",
    "f1 = 2*((precision*recall)/(precision+recall))\n",
    "\n",
    "print(\" accuracy:\",round(accuracy_score(y_true, y_pred), 2))\n",
    "print(\"precision:\",precision)\n",
    "print(\"   recall:\",recall)\n",
    "print(\"       f1:\",f1)"
   ]
  },
  {
   "cell_type": "code",
   "execution_count": 21,
   "metadata": {},
   "outputs": [
    {
     "name": "stdout",
     "output_type": "stream",
     "text": [
      "              precision    recall  f1-score   support\n",
      "\n",
      "        spam       0.99      0.84      0.91       390\n",
      "    non spam       0.34      0.94      0.50        34\n",
      "\n",
      "    accuracy                           0.85       424\n",
      "   macro avg       0.67      0.89      0.71       424\n",
      "weighted avg       0.94      0.85      0.88       424\n",
      "\n"
     ]
    }
   ],
   "source": [
    "from sklearn.metrics import classification_report\n",
    "print(classification_report(y_true, y_pred, target_names=labels))"
   ]
  },
  {
   "cell_type": "code",
   "execution_count": 22,
   "metadata": {},
   "outputs": [
    {
     "data": {
      "text/plain": [
       "(32, 2, 62, 328)"
      ]
     },
     "execution_count": 22,
     "metadata": {},
     "output_type": "execute_result"
    }
   ],
   "source": [
    "tn, fp, fn, tp"
   ]
  },
  {
   "cell_type": "code",
   "execution_count": 23,
   "metadata": {},
   "outputs": [
    {
     "data": {
      "text/plain": [
       "{'non spam', 'spam'}"
      ]
     },
     "execution_count": 23,
     "metadata": {},
     "output_type": "execute_result"
    }
   ],
   "source": [
    "set(y_pred)"
   ]
  },
  {
   "cell_type": "markdown",
   "metadata": {},
   "source": [
    "## 2. SVM"
   ]
  },
  {
   "cell_type": "code",
   "execution_count": 24,
   "metadata": {},
   "outputs": [
    {
     "name": "stdout",
     "output_type": "stream",
     "text": [
      "[[ 34   0]\n",
      " [  9 381]]\n",
      " accuracy: 0.9787735849056604\n",
      "precision: 1.0\n",
      "   recall: 0.9769230769230769\n",
      "       f1: 0.9883268482490272\n"
     ]
    }
   ],
   "source": [
    "y_pred = hasil_predisksi_svm\n",
    "cf = confusion_matrix(y_true, y_pred, labels=labels)\n",
    "print(cf)\n",
    "tn, fp, fn, tp = cf.ravel()\n",
    "\n",
    "precision = tp/(tp+fp)\n",
    "recall = tp/(tp+fn)\n",
    "f1 = 2*((precision*recall)/(precision+recall))\n",
    "\n",
    "print(\" accuracy:\",accuracy_score(y_true, y_pred))\n",
    "print(\"precision:\",precision)\n",
    "print(\"   recall:\",recall)\n",
    "print(\"       f1:\",f1)"
   ]
  },
  {
   "cell_type": "code",
   "execution_count": 25,
   "metadata": {},
   "outputs": [
    {
     "name": "stdout",
     "output_type": "stream",
     "text": [
      "              precision    recall  f1-score   support\n",
      "\n",
      "        spam       1.00      0.98      0.99       390\n",
      "    non spam       0.79      1.00      0.88        34\n",
      "\n",
      "    accuracy                           0.98       424\n",
      "   macro avg       0.90      0.99      0.94       424\n",
      "weighted avg       0.98      0.98      0.98       424\n",
      "\n"
     ]
    }
   ],
   "source": [
    "from sklearn.metrics import classification_report\n",
    "print(classification_report(y_true, y_pred, target_names=labels))"
   ]
  },
  {
   "cell_type": "code",
   "execution_count": null,
   "metadata": {},
   "outputs": [],
   "source": []
  },
  {
   "cell_type": "code",
   "execution_count": null,
   "metadata": {},
   "outputs": [],
   "source": []
  }
 ],
 "metadata": {
  "kernelspec": {
   "display_name": "Python 3",
   "language": "python",
   "name": "python3"
  },
  "language_info": {
   "codemirror_mode": {
    "name": "ipython",
    "version": 3
   },
   "file_extension": ".py",
   "mimetype": "text/x-python",
   "name": "python",
   "nbconvert_exporter": "python",
   "pygments_lexer": "ipython3",
   "version": "3.7.6"
  }
 },
 "nbformat": 4,
 "nbformat_minor": 2
}
