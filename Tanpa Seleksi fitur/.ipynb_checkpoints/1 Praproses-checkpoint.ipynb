{
 "cells": [
  {
   "cell_type": "code",
   "execution_count": 1,
   "metadata": {},
   "outputs": [],
   "source": [
    "import pandas as pd\n",
    "from modul import praproses as pps\n",
    "from modul import stemnstopword as stm\n",
    "from modul import normalisasi as nrm\n",
    "from modul import replace_karakter as rk"
   ]
  },
  {
   "cell_type": "code",
   "execution_count": 36,
   "metadata": {},
   "outputs": [
    {
     "data": {
      "text/html": [
       "<div>\n",
       "<style scoped>\n",
       "    .dataframe tbody tr th:only-of-type {\n",
       "        vertical-align: middle;\n",
       "    }\n",
       "\n",
       "    .dataframe tbody tr th {\n",
       "        vertical-align: top;\n",
       "    }\n",
       "\n",
       "    .dataframe thead th {\n",
       "        text-align: right;\n",
       "    }\n",
       "</style>\n",
       "<table border=\"1\" class=\"dataframe\">\n",
       "  <thead>\n",
       "    <tr style=\"text-align: right;\">\n",
       "      <th></th>\n",
       "      <th>Column1</th>\n",
       "      <th>rand</th>\n",
       "      <th>label</th>\n",
       "      <th>komentar</th>\n",
       "    </tr>\n",
       "  </thead>\n",
       "  <tbody>\n",
       "    <tr>\n",
       "      <th>5</th>\n",
       "      <td>6</td>\n",
       "      <td>506</td>\n",
       "      <td>spam</td>\n",
       "      <td>Έħħ ķάķķ άчùù ţέŕήчάţάά вήέŕŕ Ļόħħ άķùù ù∂άħħ ...</td>\n",
       "    </tr>\n",
       "    <tr>\n",
       "      <th>6</th>\n",
       "      <td>7</td>\n",
       "      <td>665</td>\n",
       "      <td>spam</td>\n",
       "      <td>Äÿöö kä bürüänn dëhh ördërr prödükk pënġhïlänġ...</td>\n",
       "    </tr>\n",
       "    <tr>\n",
       "      <th>7</th>\n",
       "      <td>8</td>\n",
       "      <td>953</td>\n",
       "      <td>spam</td>\n",
       "      <td>Mãàñtáááp bäNGGééèt kåãk §ètéłãâh åkûü Pâkêë p...</td>\n",
       "    </tr>\n",
       "    <tr>\n",
       "      <th>8</th>\n",
       "      <td>9</td>\n",
       "      <td>667</td>\n",
       "      <td>spam</td>\n",
       "      <td>Ḧ̤ä̤l̤̈l̤̈ö̤ G̤̈ṳ̈ÿ̤s̤̈!!!B̤̈Ṳ̈T̤̈Ṳ̈Ḧ̤...</td>\n",
       "    </tr>\n",
       "    <tr>\n",
       "      <th>9</th>\n",
       "      <td>10</td>\n",
       "      <td>212</td>\n",
       "      <td>spam</td>\n",
       "      <td>MÁĹÚ ŚÁMÁ ßĔŔÁŤ ßÁĎÁŃ ŶÁŃĞ ĞÁ ßÁŃĞĔŤ? ŚÚŚÁĤ ČÁ...</td>\n",
       "    </tr>\n",
       "  </tbody>\n",
       "</table>\n",
       "</div>"
      ],
      "text/plain": [
       "   Column1  rand label                                           komentar\n",
       "5        6   506  spam  Έħħ ķάķķ άчùù ţέŕήчάţάά вήέŕŕ Ļόħħ άķùù ù∂άħħ ...\n",
       "6        7   665  spam  Äÿöö kä bürüänn dëhh ördërr prödükk pënġhïlänġ...\n",
       "7        8   953  spam  Mãàñtáááp bäNGGééèt kåãk §ètéłãâh åkûü Pâkêë p...\n",
       "8        9   667  spam  Ḧ̤ä̤l̤̈l̤̈ö̤ G̤̈ṳ̈ÿ̤s̤̈!!!B̤̈Ṳ̈T̤̈Ṳ̈Ḧ̤...\n",
       "9       10   212  spam  MÁĹÚ ŚÁMÁ ßĔŔÁŤ ßÁĎÁŃ ŶÁŃĞ ĞÁ ßÁŃĞĔŤ? ŚÚŚÁĤ ČÁ..."
      ]
     },
     "execution_count": 36,
     "metadata": {},
     "output_type": "execute_result"
    }
   ],
   "source": [
    "data = pd.read_excel(\"komentar/Datasetes.xlsx\")\n",
    "komentar = data.komentar.tolist()\n",
    "label = data.label.tolist()\n",
    "data.tail()"
   ]
  },
  {
   "cell_type": "code",
   "execution_count": 37,
   "metadata": {},
   "outputs": [
    {
     "name": "stdout",
     "output_type": "stream",
     "text": [
      ".........."
     ]
    }
   ],
   "source": [
    "data_bersih = list()\n",
    "for ix, i in enumerate(komentar):\n",
    "    i = rk.normalisasikarakter(i)\n",
    "    i = pps.case_folding(i)\n",
    "    i = nrm.normalisasi(i)\n",
    "    i = stm.stemmer_kata(i)\n",
    "    i = stm.stop_word(i)\n",
    "    #i = pps.case_folding(i)\n",
    "    data_bersih.append(i)\n",
    "    if (ix+1)%100==0:\n",
    "        print(ix+1)\n",
    "    else:\n",
    "        print('.', end='')"
   ]
  },
  {
   "cell_type": "code",
   "execution_count": 38,
   "metadata": {},
   "outputs": [],
   "source": [
    "dictt = {\n",
    "    \"no\":data.Column1.tolist(),\n",
    "    'label':label,\n",
    "    'komentar':data_bersih,  \n",
    "}\n",
    "df = pd.DataFrame.from_dict(dictt)\n",
    "df.to_excel('komentar/data_clean_stopword2.xlsx')"
   ]
  },
  {
   "cell_type": "code",
   "execution_count": 39,
   "metadata": {},
   "outputs": [
    {
     "data": {
      "text/html": [
       "<div>\n",
       "<style scoped>\n",
       "    .dataframe tbody tr th:only-of-type {\n",
       "        vertical-align: middle;\n",
       "    }\n",
       "\n",
       "    .dataframe tbody tr th {\n",
       "        vertical-align: top;\n",
       "    }\n",
       "\n",
       "    .dataframe thead th {\n",
       "        text-align: right;\n",
       "    }\n",
       "</style>\n",
       "<table border=\"1\" class=\"dataframe\">\n",
       "  <thead>\n",
       "    <tr style=\"text-align: right;\">\n",
       "      <th></th>\n",
       "      <th>no</th>\n",
       "      <th>label</th>\n",
       "      <th>komentar</th>\n",
       "    </tr>\n",
       "  </thead>\n",
       "  <tbody>\n",
       "    <tr>\n",
       "      <th>0</th>\n",
       "      <td>1</td>\n",
       "      <td>spam</td>\n",
       "      <td>akuu gakk percayaa kakk produkk pemutihh bisaa...</td>\n",
       "    </tr>\n",
       "    <tr>\n",
       "      <th>1</th>\n",
       "      <td>2</td>\n",
       "      <td>non spam</td>\n",
       "      <td>pak kayak butuh deh macam pusat ajar gratis pe...</td>\n",
       "    </tr>\n",
       "    <tr>\n",
       "      <th>2</th>\n",
       "      <td>3</td>\n",
       "      <td>spam</td>\n",
       "      <td>kaa semingguu yangg lalu aku coba cek igg nya ...</td>\n",
       "    </tr>\n",
       "    <tr>\n",
       "      <th>3</th>\n",
       "      <td>4</td>\n",
       "      <td>spam</td>\n",
       "      <td>gabung yok minimal deposit withdraw minimal bo...</td>\n",
       "    </tr>\n",
       "    <tr>\n",
       "      <th>4</th>\n",
       "      <td>5</td>\n",
       "      <td>non spam</td>\n",
       "      <td>salam ku saudara saudara tanah palestine</td>\n",
       "    </tr>\n",
       "    <tr>\n",
       "      <th>5</th>\n",
       "      <td>6</td>\n",
       "      <td>spam</td>\n",
       "      <td>ehh kakk ayuu ternyataa bnerr lohh akuu udahh ...</td>\n",
       "    </tr>\n",
       "    <tr>\n",
       "      <th>6</th>\n",
       "      <td>7</td>\n",
       "      <td>spam</td>\n",
       "      <td>ayoo ka buruann dehh orderr produkk hilang seg...</td>\n",
       "    </tr>\n",
       "    <tr>\n",
       "      <th>7</th>\n",
       "      <td>8</td>\n",
       "      <td>spam</td>\n",
       "      <td>maantaap banggeet kaak ssetelaah akuu pakee ge...</td>\n",
       "    </tr>\n",
       "    <tr>\n",
       "      <th>8</th>\n",
       "      <td>9</td>\n",
       "      <td>spam</td>\n",
       "      <td>hallo guys butuh tambah durasi buat nyenengin ...</td>\n",
       "    </tr>\n",
       "    <tr>\n",
       "      <th>9</th>\n",
       "      <td>10</td>\n",
       "      <td>spam</td>\n",
       "      <td>malu sama berat badan ga banget susah cari baj...</td>\n",
       "    </tr>\n",
       "  </tbody>\n",
       "</table>\n",
       "</div>"
      ],
      "text/plain": [
       "   no     label                                           komentar\n",
       "0   1      spam  akuu gakk percayaa kakk produkk pemutihh bisaa...\n",
       "1   2  non spam  pak kayak butuh deh macam pusat ajar gratis pe...\n",
       "2   3      spam  kaa semingguu yangg lalu aku coba cek igg nya ...\n",
       "3   4      spam  gabung yok minimal deposit withdraw minimal bo...\n",
       "4   5  non spam           salam ku saudara saudara tanah palestine\n",
       "5   6      spam  ehh kakk ayuu ternyataa bnerr lohh akuu udahh ...\n",
       "6   7      spam  ayoo ka buruann dehh orderr produkk hilang seg...\n",
       "7   8      spam  maantaap banggeet kaak ssetelaah akuu pakee ge...\n",
       "8   9      spam  hallo guys butuh tambah durasi buat nyenengin ...\n",
       "9  10      spam  malu sama berat badan ga banget susah cari baj..."
      ]
     },
     "execution_count": 39,
     "metadata": {},
     "output_type": "execute_result"
    }
   ],
   "source": [
    "df"
   ]
  },
  {
   "cell_type": "code",
   "execution_count": null,
   "metadata": {},
   "outputs": [],
   "source": []
  }
 ],
 "metadata": {
  "kernelspec": {
   "display_name": "Python 3",
   "language": "python",
   "name": "python3"
  },
  "language_info": {
   "codemirror_mode": {
    "name": "ipython",
    "version": 3
   },
   "file_extension": ".py",
   "mimetype": "text/x-python",
   "name": "python",
   "nbconvert_exporter": "python",
   "pygments_lexer": "ipython3",
   "version": "3.7.3"
  }
 },
 "nbformat": 4,
 "nbformat_minor": 2
}
