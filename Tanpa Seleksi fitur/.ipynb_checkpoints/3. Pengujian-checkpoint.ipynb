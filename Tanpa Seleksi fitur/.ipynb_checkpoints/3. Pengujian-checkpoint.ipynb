{
 "cells": [
  {
   "cell_type": "code",
   "execution_count": 1,
   "metadata": {},
   "outputs": [],
   "source": [
    "import pandas as pd\n",
    "from joblib import load\n",
    "from modulku import praproses as pps, StemNstopW as stm\n",
    "from replace import normalisasi as nrm"
   ]
  },
  {
   "cell_type": "code",
   "execution_count": 16,
   "metadata": {},
   "outputs": [],
   "source": [
    "def xx (teks):\n",
    "    teks = pps.preprocessing(teks)\n",
    "    teks = nrm.normalisasi(teks)\n",
    "    teks = stm.stemmer_kata(teks)\n",
    "    teks = stm.stop_word(teks)\n",
    "    return teks\n",
    "\n",
    "def praproses (teks):\n",
    "    if type(teks) == list:\n",
    "        print(\"list\")\n",
    "        l = list()\n",
    "        for i in teks:\n",
    "            l.append(xx(i))\n",
    "        return l\n",
    "    else:\n",
    "        return [xx(teks)]"
   ]
  },
  {
   "cell_type": "markdown",
   "metadata": {},
   "source": [
    "# Load Model"
   ]
  },
  {
   "cell_type": "code",
   "execution_count": 12,
   "metadata": {},
   "outputs": [],
   "source": [
    "tfidf = load(\"model/tfidf.w\")\n",
    "svm = load(\"model/svm.m\") #\n",
    "mnb = load(\"model/mnb.m\")"
   ]
  },
  {
   "cell_type": "markdown",
   "metadata": {},
   "source": [
    "# Load Data Uji"
   ]
  },
  {
   "cell_type": "code",
   "execution_count": 14,
   "metadata": {},
   "outputs": [],
   "source": [
    "data_uji = pd.read_excel(\"komentar/data_ujiX1255.xlsx\")\n",
    "\n",
    "komentar = data_uji.komentar.tolist()\n",
    "label = data_uji.label.tolist()\n",
    "# data_uji"
   ]
  },
  {
   "cell_type": "markdown",
   "metadata": {},
   "source": [
    "# Melakukan Prediksi terhadap data uji"
   ]
  },
  {
   "cell_type": "code",
   "execution_count": null,
   "metadata": {},
   "outputs": [
    {
     "name": "stdout",
     "output_type": "stream",
     "text": [
      "ini\n"
     ]
    }
   ],
   "source": [
    "komentar_praproses = praproses(komentar)\n",
    "hasil_predisksi_svm = svm.predict(tfidf(komentar_praproses))\n",
    "hasil_predisksi_mnb = mnb.predict(tfidf(komentar_praproses))"
   ]
  },
  {
   "cell_type": "markdown",
   "metadata": {},
   "source": [
    "# Confusion Matrix"
   ]
  },
  {
   "cell_type": "code",
   "execution_count": null,
   "metadata": {},
   "outputs": [],
   "source": [
    "from sklearn.metrics import confusion_matrix\n",
    "from sklearn.metrics import accuracy_score\n",
    "labels = list(reverse(list(set(y_true))))\n",
    "y_true = label\n",
    "for i in labels:\n",
    "    print(i)"
   ]
  },
  {
   "cell_type": "code",
   "execution_count": null,
   "metadata": {},
   "outputs": [],
   "source": []
  },
  {
   "cell_type": "markdown",
   "metadata": {},
   "source": [
    "## 1. MNB"
   ]
  },
  {
   "cell_type": "code",
   "execution_count": null,
   "metadata": {},
   "outputs": [],
   "source": [
    "y_pred = hasil_predisksi_mnb\n",
    "cf = confusion_matrix(y_true, y_pred, labels=labels)\n",
    "print(cf)\n",
    "tn, fp, fn, tp = cf.ravel()\n",
    "\n",
    "precision = tp/(tp+fp)\n",
    "recall = tp/(tp+fn)\n",
    "f1 = 2*((precision*recall)/(precision+recall))\n",
    "\n",
    "print(\" accuracy:\"accuracy_score(y_true, y_pred))\n",
    "print(\"precision:\",precision)\n",
    "print(\"   recall:\",recall)\n",
    "print(\"       f1:\",f1)"
   ]
  },
  {
   "cell_type": "markdown",
   "metadata": {},
   "source": [
    "## 2. SVM"
   ]
  },
  {
   "cell_type": "code",
   "execution_count": null,
   "metadata": {},
   "outputs": [],
   "source": [
    "y_pred = hasil_predisksi_svm\n",
    "cf = confusion_matrix(y_true, y_pred, labels=labels)\n",
    "print(cf)\n",
    "tn, fp, fn, tp = cf.ravel()\n",
    "\n",
    "precision = tp/(tp+fp)\n",
    "recall = tp/(tp+fn)\n",
    "f1 = 2*((precision*recall)/(precision+recall))\n",
    "\n",
    "print(\" accuracy:\"accuracy_score(y_true, y_pred))\n",
    "print(\"precision:\",precision)\n",
    "print(\"   recall:\",recall)\n",
    "print(\"       f1:\",f1)"
   ]
  }
 ],
 "metadata": {
  "kernelspec": {
   "display_name": "Python 3",
   "language": "python",
   "name": "python3"
  },
  "language_info": {
   "codemirror_mode": {
    "name": "ipython",
    "version": 3
   },
   "file_extension": ".py",
   "mimetype": "text/x-python",
   "name": "python",
   "nbconvert_exporter": "python",
   "pygments_lexer": "ipython3",
   "version": "3.7.3"
  }
 },
 "nbformat": 4,
 "nbformat_minor": 2
}
