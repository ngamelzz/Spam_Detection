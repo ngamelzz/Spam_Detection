{
 "cells": [
  {
   "cell_type": "code",
   "execution_count": 2,
   "metadata": {},
   "outputs": [],
   "source": [
    "import pandas as pd\n",
    "from joblib import load\n",
    "from modul import praproses as pps\n",
    "from modul import stemnstopword as stm\n",
    "from modul import normalisasi as nrm\n",
    "from modul import replace_karakter as rk"
   ]
  },
  {
   "cell_type": "code",
   "execution_count": 3,
   "metadata": {},
   "outputs": [],
   "source": [
    "def praproses (teks):\n",
    "    teks = rk.normalisasikarakter(teks)\n",
    "    teks = pps.case_folding(teks)\n",
    "    teks = nrm.normalisasi(teks)\n",
    "    teks = stm.stemmer_kata(teks)\n",
    "    teks = stm.stop_word(teks)\n",
    "    return teks\n",
    "\n",
    "def praproses_exe (teks):\n",
    "    if type(teks) == list:\n",
    "        print(\"list\")\n",
    "        l = list()\n",
    "        for i in teks:\n",
    "            l.append(praproses(i))\n",
    "        return l\n",
    "    else:\n",
    "        return [praproses(teks)]"
   ]
  },
  {
   "cell_type": "markdown",
   "metadata": {},
   "source": [
    "# Load Model"
   ]
  },
  {
   "cell_type": "code",
   "execution_count": 4,
   "metadata": {},
   "outputs": [],
   "source": [
    "tfidf = load(\"model/tfidf.w\")\n",
    "svm = load(\"model/svm.m\")\n",
    "mnb = load(\"model/mnb.m\")"
   ]
  },
  {
   "cell_type": "markdown",
   "metadata": {},
   "source": [
    "# Load Data Uji"
   ]
  },
  {
   "cell_type": "code",
   "execution_count": 8,
   "metadata": {},
   "outputs": [
    {
     "data": {
      "text/html": [
       "<div>\n",
       "<style scoped>\n",
       "    .dataframe tbody tr th:only-of-type {\n",
       "        vertical-align: middle;\n",
       "    }\n",
       "\n",
       "    .dataframe tbody tr th {\n",
       "        vertical-align: top;\n",
       "    }\n",
       "\n",
       "    .dataframe thead th {\n",
       "        text-align: right;\n",
       "    }\n",
       "</style>\n",
       "<table border=\"1\" class=\"dataframe\">\n",
       "  <thead>\n",
       "    <tr style=\"text-align: right;\">\n",
       "      <th></th>\n",
       "      <th>Unnamed: 0</th>\n",
       "      <th>Unnamed: 1</th>\n",
       "      <th>komentar</th>\n",
       "      <th>label</th>\n",
       "    </tr>\n",
       "  </thead>\n",
       "  <tbody>\n",
       "    <tr>\n",
       "      <th>295</th>\n",
       "      <td>407.0</td>\n",
       "      <td>424</td>\n",
       "      <td>siapa blg mslh blg mslah cma ksih sran aja alx...</td>\n",
       "      <td>non spam</td>\n",
       "    </tr>\n",
       "    <tr>\n",
       "      <th>296</th>\n",
       "      <td>384.0</td>\n",
       "      <td>250</td>\n",
       "      <td>sllu ajar usaha tahan kualitas costumer neng s...</td>\n",
       "      <td>spam</td>\n",
       "    </tr>\n",
       "    <tr>\n",
       "      <th>297</th>\n",
       "      <td>1126.0</td>\n",
       "      <td>103</td>\n",
       "      <td>aasi ane o a uda nenain odu yan sana eui eecay...</td>\n",
       "      <td>spam</td>\n",
       "    </tr>\n",
       "    <tr>\n",
       "      <th>298</th>\n",
       "      <td>632.0</td>\n",
       "      <td>16</td>\n",
       "      <td>awal ny ga percaya aku coba nyata hasil cepet ...</td>\n",
       "      <td>spam</td>\n",
       "    </tr>\n",
       "    <tr>\n",
       "      <th>299</th>\n",
       "      <td>NaN</td>\n",
       "      <td>4756</td>\n",
       "      <td>film rillis tgl teh fan ily from 3800ft sama k...</td>\n",
       "      <td>non spam</td>\n",
       "    </tr>\n",
       "  </tbody>\n",
       "</table>\n",
       "</div>"
      ],
      "text/plain": [
       "     Unnamed: 0  Unnamed: 1  \\\n",
       "295       407.0         424   \n",
       "296       384.0         250   \n",
       "297      1126.0         103   \n",
       "298       632.0          16   \n",
       "299         NaN        4756   \n",
       "\n",
       "                                              komentar     label  \n",
       "295  siapa blg mslh blg mslah cma ksih sran aja alx...  non spam  \n",
       "296  sllu ajar usaha tahan kualitas costumer neng s...      spam  \n",
       "297  aasi ane o a uda nenain odu yan sana eui eecay...      spam  \n",
       "298  awal ny ga percaya aku coba nyata hasil cepet ...      spam  \n",
       "299  film rillis tgl teh fan ily from 3800ft sama k...  non spam  "
      ]
     },
     "execution_count": 8,
     "metadata": {},
     "output_type": "execute_result"
    }
   ],
   "source": [
    "data_uji = pd.read_excel(\"komentar/data_uji_100.xlsx\")\n",
    "\n",
    "komentar = data_uji.komentar.tolist()\n",
    "label = data_uji.label.tolist()\n",
    "\n",
    "#len(data_uji)\n",
    "data_uji.head()"
   ]
  },
  {
   "cell_type": "markdown",
   "metadata": {},
   "source": [
    "# Melakukan Prediksi terhadap data uji"
   ]
  },
  {
   "cell_type": "code",
   "execution_count": 9,
   "metadata": {},
   "outputs": [
    {
     "name": "stdout",
     "output_type": "stream",
     "text": [
      "list\n"
     ]
    }
   ],
   "source": [
    "komentar = praproses(komentar)\n",
    "\n",
    "hasil_predisksi_svm = svm.predict(tfidf.transform(komentar))\n",
    "hasil_predisksi_mnb = mnb.predict(tfidf.transform(komentar))"
   ]
  },
  {
   "cell_type": "code",
   "execution_count": 6,
   "metadata": {},
   "outputs": [],
   "source": [
    "# dictt = {\n",
    "#     \"komentar\":komentar_praproses,\n",
    "#     \"label\":label\n",
    "# }\n",
    "# df = pd.DataFrame.from_dict(dictt)\n",
    "# df.to_excel(\"komentar/data_uji_1255_bersih.xlsx\")\n",
    "# df"
   ]
  },
  {
   "cell_type": "markdown",
   "metadata": {},
   "source": [
    "# Confusion Matrix"
   ]
  },
  {
   "cell_type": "code",
   "execution_count": 10,
   "metadata": {},
   "outputs": [
    {
     "name": "stdout",
     "output_type": "stream",
     "text": [
      "non spam\n",
      "spam\n"
     ]
    }
   ],
   "source": [
    "from sklearn.metrics import confusion_matrix\n",
    "from sklearn.metrics import accuracy_score\n",
    "\n",
    "labels = list(reversed(list(set(label))))\n",
    "y_true = label\n",
    "\n",
    "for i in labels:\n",
    "    print(i)"
   ]
  },
  {
   "cell_type": "code",
   "execution_count": null,
   "metadata": {},
   "outputs": [],
   "source": []
  },
  {
   "cell_type": "markdown",
   "metadata": {},
   "source": [
    "## 1. Hasil Prediksi MNB"
   ]
  },
  {
   "cell_type": "code",
   "execution_count": 11,
   "metadata": {},
   "outputs": [
    {
     "name": "stdout",
     "output_type": "stream",
     "text": [
      "[[115   6]\n",
      " [  4 175]]\n",
      " accuracy: 0.97\n",
      "precision: 0.9668508287292817\n",
      "   recall: 0.9776536312849162\n",
      "       f1: 0.9722222222222221\n"
     ]
    }
   ],
   "source": [
    "y_pred = hasil_predisksi_mnb\n",
    "\n",
    "cf = confusion_matrix(y_true, y_pred, labels=labels)\n",
    "print(cf)\n",
    "\n",
    "tn, fp, fn, tp = cf.ravel()\n",
    "\n",
    "precision = tp/(tp+fp)\n",
    "recall = tp/(tp+fn)\n",
    "f1 = 2*((precision*recall)/(precision+recall))\n",
    "\n",
    "print(\" accuracy:\",round(accuracy_score(y_true, y_pred), 2))\n",
    "print(\"precision:\",precision)\n",
    "print(\"   recall:\",recall)\n",
    "print(\"       f1:\",f1)"
   ]
  },
  {
   "cell_type": "markdown",
   "metadata": {},
   "source": [
    "## 2. Hasil Prediksi SVM"
   ]
  },
  {
   "cell_type": "code",
   "execution_count": 12,
   "metadata": {},
   "outputs": [
    {
     "name": "stdout",
     "output_type": "stream",
     "text": [
      "[[117   4]\n",
      " [  4 175]]\n",
      " accuracy: 0.9733333333333334\n",
      "precision: 0.9776536312849162\n",
      "   recall: 0.9776536312849162\n",
      "       f1: 0.9776536312849162\n"
     ]
    }
   ],
   "source": [
    "y_pred = hasil_predisksi_svm\n",
    "\n",
    "cf = confusion_matrix(y_true, y_pred, labels=labels)\n",
    "print(cf)\n",
    "\n",
    "tn, fp, fn, tp = cf.ravel()\n",
    "\n",
    "precision = tp/(tp+fp)\n",
    "recall = tp/(tp+fn)\n",
    "f1 = 2*((precision*recall)/(precision+recall))\n",
    "\n",
    "print(\" accuracy:\",accuracy_score(y_true, y_pred))\n",
    "print(\"precision:\",precision)\n",
    "print(\"   recall:\",recall)\n",
    "print(\"       f1:\",f1)"
   ]
  },
  {
   "cell_type": "code",
   "execution_count": null,
   "metadata": {},
   "outputs": [],
   "source": []
  }
 ],
 "metadata": {
  "kernelspec": {
   "display_name": "Python 3",
   "language": "python",
   "name": "python3"
  },
  "language_info": {
   "codemirror_mode": {
    "name": "ipython",
    "version": 3
   },
   "file_extension": ".py",
   "mimetype": "text/x-python",
   "name": "python",
   "nbconvert_exporter": "python",
   "pygments_lexer": "ipython3",
   "version": "3.7.3"
  }
 },
 "nbformat": 4,
 "nbformat_minor": 2
}
