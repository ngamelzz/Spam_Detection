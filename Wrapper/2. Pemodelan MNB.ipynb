{
  "nbformat": 4,
  "nbformat_minor": 0,
  "metadata": {
    "kernelspec": {
      "display_name": "Python 3",
      "language": "python",
      "name": "python3"
    },
    "language_info": {
      "codemirror_mode": {
        "name": "ipython",
        "version": 3
      },
      "file_extension": ".py",
      "mimetype": "text/x-python",
      "name": "python",
      "nbconvert_exporter": "python",
      "pygments_lexer": "ipython3",
      "version": "3.7.6"
    },
    "colab": {
      "name": "2. Pemodelan MNB.ipynb",
      "provenance": []
    }
  },
  "cells": [
    {
      "cell_type": "markdown",
      "metadata": {
        "id": "gMLPbGiYeyT3",
        "colab_type": "text"
      },
      "source": [
        "   1  : 1.58,\n",
        "   0.1: 2.71,\n",
        "  0.05: 3.84, \n",
        "  0.01: 6.63,\n",
        " 0.005: 7.88, \n",
        " 0.001: 10.83"
      ]
    },
    {
      "cell_type": "code",
      "metadata": {
        "id": "WjJ-gjIQeyT5",
        "colab_type": "code",
        "colab": {}
      },
      "source": [
        "# 2.71 - 1.13"
      ],
      "execution_count": 0,
      "outputs": []
    },
    {
      "cell_type": "code",
      "metadata": {
        "id": "iRQV4u2ZeyT9",
        "colab_type": "code",
        "colab": {}
      },
      "source": [
        "import pandas as pd\n",
        "import numpy as np\n",
        "from joblib import dump"
      ],
      "execution_count": 0,
      "outputs": []
    },
    {
      "cell_type": "code",
      "metadata": {
        "id": "x4ebET5_eyUB",
        "colab_type": "code",
        "colab": {
          "base_uri": "https://localhost:8080/",
          "height": 433
        },
        "outputId": "7616989c-44e3-48fb-8ae1-46b7aec93116"
      },
      "source": [
        "# data = pd.read_excel(\"komentar/data_uji_1255_bersih.xlsx\")#  data_cleanU1\n",
        "data = pd.read_excel(\"https://github.com/lufias69/Spam_Detection/blob/master/Filter%20chi%20square/komentar/data_cleanU1.xlsx?raw=true\")\n",
        "\n",
        "# data = data[:100]\n",
        "komentar = data.komentar.tolist()\n",
        "label = data.label.tolist()\n",
        "\n",
        "y = np.array(label)\n",
        "print(len(y))\n",
        "data"
      ],
      "execution_count": 3,
      "outputs": [
        {
          "output_type": "stream",
          "text": [
            "5047\n"
          ],
          "name": "stdout"
        },
        {
          "output_type": "execute_result",
          "data": {
            "text/html": [
              "<div>\n",
              "<style scoped>\n",
              "    .dataframe tbody tr th:only-of-type {\n",
              "        vertical-align: middle;\n",
              "    }\n",
              "\n",
              "    .dataframe tbody tr th {\n",
              "        vertical-align: top;\n",
              "    }\n",
              "\n",
              "    .dataframe thead th {\n",
              "        text-align: right;\n",
              "    }\n",
              "</style>\n",
              "<table border=\"1\" class=\"dataframe\">\n",
              "  <thead>\n",
              "    <tr style=\"text-align: right;\">\n",
              "      <th></th>\n",
              "      <th>Column1</th>\n",
              "      <th>label</th>\n",
              "      <th>komentar</th>\n",
              "    </tr>\n",
              "  </thead>\n",
              "  <tbody>\n",
              "    <tr>\n",
              "      <th>0</th>\n",
              "      <td>195</td>\n",
              "      <td>spam</td>\n",
              "      <td>ga nyesel deh aku order sana</td>\n",
              "    </tr>\n",
              "    <tr>\n",
              "      <th>1</th>\n",
              "      <td>480</td>\n",
              "      <td>non spam</td>\n",
              "      <td>wakakak tolol tulang tulang</td>\n",
              "    </tr>\n",
              "    <tr>\n",
              "      <th>2</th>\n",
              "      <td>539</td>\n",
              "      <td>non spam</td>\n",
              "      <td>sepatu keren kamu keren cara instan</td>\n",
              "    </tr>\n",
              "    <tr>\n",
              "      <th>3</th>\n",
              "      <td>564</td>\n",
              "      <td>spam</td>\n",
              "      <td>via q udh blja shoppe barang bagus kecewa mantap</td>\n",
              "    </tr>\n",
              "    <tr>\n",
              "      <th>4</th>\n",
              "      <td>596</td>\n",
              "      <td>non spam</td>\n",
              "      <td>sir what if use again kamisenglish that s just...</td>\n",
              "    </tr>\n",
              "    <tr>\n",
              "      <th>...</th>\n",
              "      <td>...</td>\n",
              "      <td>...</td>\n",
              "      <td>...</td>\n",
              "    </tr>\n",
              "    <tr>\n",
              "      <th>5042</th>\n",
              "      <td>5049</td>\n",
              "      <td>spam</td>\n",
              "      <td>bosen outfit kalian aja yuk cek ig tambah kole...</td>\n",
              "    </tr>\n",
              "    <tr>\n",
              "      <th>5043</th>\n",
              "      <td>5050</td>\n",
              "      <td>spam</td>\n",
              "      <td>maantaap banggeet kaak eteaah akuu pakee gemuk...</td>\n",
              "    </tr>\n",
              "    <tr>\n",
              "      <th>5044</th>\n",
              "      <td>5052</td>\n",
              "      <td>spam</td>\n",
              "      <td>sllu ajar usaha tahan kualitas costumer neng s...</td>\n",
              "    </tr>\n",
              "    <tr>\n",
              "      <th>5045</th>\n",
              "      <td>5053</td>\n",
              "      <td>spam</td>\n",
              "      <td>aasi ane o a uda nenain odu yan sana eui eecay...</td>\n",
              "    </tr>\n",
              "    <tr>\n",
              "      <th>5046</th>\n",
              "      <td>5054</td>\n",
              "      <td>spam</td>\n",
              "      <td>awal ny ga percaya aku coba nyata hasil cepet ...</td>\n",
              "    </tr>\n",
              "  </tbody>\n",
              "</table>\n",
              "<p>5047 rows × 3 columns</p>\n",
              "</div>"
            ],
            "text/plain": [
              "      Column1     label                                           komentar\n",
              "0         195      spam                       ga nyesel deh aku order sana\n",
              "1         480  non spam                        wakakak tolol tulang tulang\n",
              "2         539  non spam                sepatu keren kamu keren cara instan\n",
              "3         564      spam   via q udh blja shoppe barang bagus kecewa mantap\n",
              "4         596  non spam  sir what if use again kamisenglish that s just...\n",
              "...       ...       ...                                                ...\n",
              "5042     5049      spam  bosen outfit kalian aja yuk cek ig tambah kole...\n",
              "5043     5050      spam  maantaap banggeet kaak eteaah akuu pakee gemuk...\n",
              "5044     5052      spam  sllu ajar usaha tahan kualitas costumer neng s...\n",
              "5045     5053      spam  aasi ane o a uda nenain odu yan sana eui eecay...\n",
              "5046     5054      spam  awal ny ga percaya aku coba nyata hasil cepet ...\n",
              "\n",
              "[5047 rows x 3 columns]"
            ]
          },
          "metadata": {
            "tags": []
          },
          "execution_count": 3
        }
      ]
    },
    {
      "cell_type": "code",
      "metadata": {
        "id": "aLNLMqAaeyUF",
        "colab_type": "code",
        "colab": {
          "base_uri": "https://localhost:8080/",
          "height": 35
        },
        "outputId": "70eb3f1e-68f3-47fd-93ce-3140ef67e831"
      },
      "source": [
        "from sklearn.feature_extraction.text import TfidfVectorizer\n",
        "\n",
        "vectorizer = TfidfVectorizer()#\n",
        "X = vectorizer.fit_transform(komentar)\n",
        "save = vectorizer.fit(komentar)\n",
        "# dump(save, \"model/tfidf.w\")\n",
        "# print(vectorizer.get_feature_names())\n",
        "fitur = vectorizer.get_feature_names()\n",
        "print(X.shape)"
      ],
      "execution_count": 4,
      "outputs": [
        {
          "output_type": "stream",
          "text": [
            "(5047, 15136)\n"
          ],
          "name": "stdout"
        }
      ]
    },
    {
      "cell_type": "code",
      "metadata": {
        "id": "bCVP1YGmeyUJ",
        "colab_type": "code",
        "colab": {}
      },
      "source": [
        "from sklearn.naive_bayes import MultinomialNB\n",
        "clf = MultinomialNB()"
      ],
      "execution_count": 0,
      "outputs": []
    },
    {
      "cell_type": "markdown",
      "metadata": {
        "id": "I8RaShiweyUM",
        "colab_type": "text"
      },
      "source": [
        "# Ekstraksi dan Seleksi Fitur"
      ]
    },
    {
      "cell_type": "code",
      "metadata": {
        "id": "8Ey6VNZJeyUN",
        "colab_type": "code",
        "colab": {
          "base_uri": "https://localhost:8080/",
          "height": 89
        },
        "outputId": "7bdaf1b5-fbf5-44fd-87d9-3652e581206e"
      },
      "source": [
        "from mlxtend.feature_selection import SequentialFeatureSelector\n",
        "          \n",
        "# import the algorithm you want to evaluate on your features.\n",
        "from sklearn.naive_bayes import MultinomialNB\n",
        "\n",
        "# create the SequentialFeatureSelector object, and configure the parameters.\n",
        "efs = SequentialFeatureSelector(MultinomialNB(), \n",
        "           k_features=1500, \n",
        "           forward=True, \n",
        "           floating=False,\n",
        "           scoring='accuracy',\n",
        "           cv=5)\n",
        "\n",
        "print(\"&\")\n",
        "# fit the object to the training data.\n",
        "efs = efs.fit(X, y)\n",
        "print(\"selesai\")"
      ],
      "execution_count": 0,
      "outputs": [
        {
          "output_type": "stream",
          "text": [
            "/usr/local/lib/python3.6/dist-packages/sklearn/externals/joblib/__init__.py:15: FutureWarning: sklearn.externals.joblib is deprecated in 0.21 and will be removed in 0.23. Please import this functionality directly from joblib, which can be installed with: pip install joblib. If this warning is raised when loading pickled models, you may need to re-serialize those models with scikit-learn 0.21+.\n",
            "  warnings.warn(msg, category=FutureWarning)\n"
          ],
          "name": "stderr"
        },
        {
          "output_type": "stream",
          "text": [
            "&\n"
          ],
          "name": "stdout"
        }
      ]
    },
    {
      "cell_type": "code",
      "metadata": {
        "id": "uuZkDHYKeyUQ",
        "colab_type": "code",
        "colab": {}
      },
      "source": [
        "# print the selected features.\n",
        "# selected_features = x_train.columns[list(efs.k_feature_idx_)]\n",
        "# print(selected_features)\n",
        "\n",
        "# # print the final prediction score.\n",
        "# print(efs.k_score_)\n",
        "\n",
        "# # transform our data to the newly selected features.\n",
        "# x_train_sfs = efs.transform(x_train)\n",
        "# x_test_sfs = efs.transform(x_test)"
      ],
      "execution_count": 0,
      "outputs": []
    },
    {
      "cell_type": "code",
      "metadata": {
        "id": "SUDV48iXeyUT",
        "colab_type": "code",
        "colab": {},
        "outputId": "8c5613ff-b06f-4629-ce25-20a32df4405f"
      },
      "source": [
        "efs.k_feature_idx_\n",
        "filtered_features= efs.columns[list(features.k_feature_idx_)]"
      ],
      "execution_count": 0,
      "outputs": [
        {
          "output_type": "execute_result",
          "data": {
            "text/plain": [
              "(0, 1, 2, 3, 4, 5, 6, 7, 8, 9)"
            ]
          },
          "metadata": {
            "tags": []
          },
          "execution_count": 10
        }
      ]
    },
    {
      "cell_type": "code",
      "metadata": {
        "id": "lESNtYEqeyUY",
        "colab_type": "code",
        "colab": {}
      },
      "source": [
        "index_fitur_terbaik = efs.k_feature_idx_"
      ],
      "execution_count": 0,
      "outputs": []
    },
    {
      "cell_type": "code",
      "metadata": {
        "id": "H0Q7KIloeyUa",
        "colab_type": "code",
        "colab": {},
        "outputId": "132d4d2b-e164-4e2b-f72d-9e7185880135"
      },
      "source": [
        "np.array(fitur)[list(index_fitur_terbaik)]"
      ],
      "execution_count": 0,
      "outputs": [
        {
          "output_type": "execute_result",
          "data": {
            "text/plain": [
              "array(['00', '000iphone', '000oppo', '000samsung', '000vivo', '000xiaomi',\n",
              "       '0223', '0388', '0540', '080'], dtype='<U35')"
            ]
          },
          "metadata": {
            "tags": []
          },
          "execution_count": 15
        }
      ]
    },
    {
      "cell_type": "code",
      "metadata": {
        "id": "xsH57oe0eyUd",
        "colab_type": "code",
        "colab": {}
      },
      "source": [
        "# sf = cs.ChiSquare(alpha = 0.1)\n",
        "# sf.find_best_features(komentar, label, fitur = None)"
      ],
      "execution_count": 0,
      "outputs": []
    },
    {
      "cell_type": "code",
      "metadata": {
        "id": "fi9c0A2geyUh",
        "colab_type": "code",
        "colab": {}
      },
      "source": [
        ""
      ],
      "execution_count": 0,
      "outputs": []
    },
    {
      "cell_type": "code",
      "metadata": {
        "id": "iBYGNMNUeyUk",
        "colab_type": "code",
        "colab": {},
        "outputId": "41bb564f-6354-4ddc-a5b2-84840efc5031"
      },
      "source": [
        "# print(\"jumlah fitur terbaik:\",len(sf.best_features),\"dari\",len(sf.fitur), \"fitur\")\n",
        "# best_features = sf.best_features"
      ],
      "execution_count": 0,
      "outputs": [
        {
          "output_type": "stream",
          "text": [
            "jumlah fitur terbaik: 2749 dari 15136 fitur\n"
          ],
          "name": "stdout"
        }
      ]
    },
    {
      "cell_type": "markdown",
      "metadata": {
        "id": "VdljFXjdeyUn",
        "colab_type": "text"
      },
      "source": [
        "# Pemodelan"
      ]
    },
    {
      "cell_type": "markdown",
      "metadata": {
        "id": "_mjrfS5IeyUo",
        "colab_type": "text"
      },
      "source": [
        "## TF-IDF"
      ]
    },
    {
      "cell_type": "code",
      "metadata": {
        "id": "rmaLs0RYeyUo",
        "colab_type": "code",
        "colab": {},
        "outputId": "1e7faddc-616a-4514-f83d-2f48e142a4b9"
      },
      "source": [
        "# from sklearn.feature_extraction.text import TfidfVectorizer\n",
        "\n",
        "# vectorizer = TfidfVectorizer(vocabulary = best_features)#\n",
        "# X = vectorizer.fit_transform(komentar)\n",
        "# save = vectorizer.fit(komentar)\n",
        "# dump(save, \"model/tfidf.w\")\n",
        "# # print(vectorizer.get_feature_names())\n",
        "# fitur = vectorizer.get_feature_names()\n",
        "# print(X.shape)"
      ],
      "execution_count": 0,
      "outputs": [
        {
          "output_type": "stream",
          "text": [
            "(5047, 2749)\n"
          ],
          "name": "stdout"
        }
      ]
    },
    {
      "cell_type": "markdown",
      "metadata": {
        "id": "m3luQVdqeyUr",
        "colab_type": "text"
      },
      "source": [
        "## Pemodelan MNB "
      ]
    },
    {
      "cell_type": "code",
      "metadata": {
        "id": "xIlVhkEteyUs",
        "colab_type": "code",
        "colab": {}
      },
      "source": [
        "from sklearn.naive_bayes import MultinomialNB\n",
        "clf = MultinomialNB()"
      ],
      "execution_count": 0,
      "outputs": []
    },
    {
      "cell_type": "markdown",
      "metadata": {
        "id": "l54ZVfRxeyUx",
        "colab_type": "text"
      },
      "source": [
        "# Pemodelan dan Validasi Model"
      ]
    },
    {
      "cell_type": "code",
      "metadata": {
        "id": "w9H3xiMdeyUy",
        "colab_type": "code",
        "colab": {},
        "outputId": "417a0331-b563-4cd6-81be-e9c16a70a23b"
      },
      "source": [
        "from sklearn.model_selection import StratifiedKFold\n",
        "from sklearn.metrics import accuracy_score\n",
        "\n",
        "skf = StratifiedKFold(n_splits=10)\n",
        "skf.get_n_splits(X, y)\n",
        "\n",
        "start = 0.001\n",
        "stop = 1\n",
        "step = start\n",
        "alpha_list = np.arange(start,stop+step,step)\n",
        "# print(alpha_list)\n",
        "akurasi = list()\n",
        "\n",
        "ix = 0 #just counter\n",
        "for alpha in alpha_list:\n",
        "    clf.set_params(alpha=alpha)\n",
        "    temp_akurasi = list()\n",
        "    for train_index, test_index in skf.split(X, y):\n",
        "    #     print(\"TRAIN:\", train_index, \"TEST:\", test_index)\n",
        "        X_train, X_test = X[train_index], X[test_index]\n",
        "        y_train, y_test = y[train_index], y[test_index]\n",
        "        \n",
        "        #latih model\n",
        "        clf.fit(X_train,y_train)\n",
        "        \n",
        "        #prediksi\n",
        "        y_pred = clf.predict(X_test)\n",
        "        temp_akurasi.append(accuracy_score(y_test, y_pred))\n",
        "    rerata_akurasi = sum(temp_akurasi)/len(temp_akurasi)\n",
        "    akurasi.append(rerata_akurasi)\n",
        "#     print('alpha   :',alpha)\n",
        "#     print('     akurasi :',rerata_akurasi)\n",
        "#     print(\"=\"*100)\n",
        "    ix +=1\n",
        "    if ix%100 !=0:\n",
        "        print(\".\", end=\"\")\n",
        "    else:\n",
        "#         print(alpha, ' | ', rerata_akurasi)\n",
        "        print(\"\")\n",
        "\n",
        "        pass\n",
        "\n",
        "ditt = {\n",
        "    \"alpha\":alpha_list,\n",
        "    \"akurasi\":akurasi\n",
        "}\n",
        "index = akurasi.index(max(akurasi))\n",
        "acc = pd.DataFrame.from_dict(ditt)\n",
        "acc"
      ],
      "execution_count": 0,
      "outputs": [
        {
          "output_type": "stream",
          "text": [
            "...................................................................................................\n",
            "...................................................................................................\n",
            "...................................................................................................\n",
            "...................................................................................................\n",
            "...................................................................................................\n",
            "...................................................................................................\n",
            "...................................................................................................\n",
            "...................................................................................................\n",
            "...................................................................................................\n",
            "...................................................................................................\n"
          ],
          "name": "stdout"
        },
        {
          "output_type": "execute_result",
          "data": {
            "text/html": [
              "<div>\n",
              "<style scoped>\n",
              "    .dataframe tbody tr th:only-of-type {\n",
              "        vertical-align: middle;\n",
              "    }\n",
              "\n",
              "    .dataframe tbody tr th {\n",
              "        vertical-align: top;\n",
              "    }\n",
              "\n",
              "    .dataframe thead th {\n",
              "        text-align: right;\n",
              "    }\n",
              "</style>\n",
              "<table border=\"1\" class=\"dataframe\">\n",
              "  <thead>\n",
              "    <tr style=\"text-align: right;\">\n",
              "      <th></th>\n",
              "      <th>alpha</th>\n",
              "      <th>akurasi</th>\n",
              "    </tr>\n",
              "  </thead>\n",
              "  <tbody>\n",
              "    <tr>\n",
              "      <th>0</th>\n",
              "      <td>0.001</td>\n",
              "      <td>0.977022</td>\n",
              "    </tr>\n",
              "    <tr>\n",
              "      <th>1</th>\n",
              "      <td>0.002</td>\n",
              "      <td>0.977616</td>\n",
              "    </tr>\n",
              "    <tr>\n",
              "      <th>2</th>\n",
              "      <td>0.003</td>\n",
              "      <td>0.977418</td>\n",
              "    </tr>\n",
              "    <tr>\n",
              "      <th>3</th>\n",
              "      <td>0.004</td>\n",
              "      <td>0.977418</td>\n",
              "    </tr>\n",
              "    <tr>\n",
              "      <th>4</th>\n",
              "      <td>0.005</td>\n",
              "      <td>0.977418</td>\n",
              "    </tr>\n",
              "    <tr>\n",
              "      <th>...</th>\n",
              "      <td>...</td>\n",
              "      <td>...</td>\n",
              "    </tr>\n",
              "    <tr>\n",
              "      <th>995</th>\n",
              "      <td>0.996</td>\n",
              "      <td>0.975438</td>\n",
              "    </tr>\n",
              "    <tr>\n",
              "      <th>996</th>\n",
              "      <td>0.997</td>\n",
              "      <td>0.975438</td>\n",
              "    </tr>\n",
              "    <tr>\n",
              "      <th>997</th>\n",
              "      <td>0.998</td>\n",
              "      <td>0.975438</td>\n",
              "    </tr>\n",
              "    <tr>\n",
              "      <th>998</th>\n",
              "      <td>0.999</td>\n",
              "      <td>0.975438</td>\n",
              "    </tr>\n",
              "    <tr>\n",
              "      <th>999</th>\n",
              "      <td>1.000</td>\n",
              "      <td>0.975438</td>\n",
              "    </tr>\n",
              "  </tbody>\n",
              "</table>\n",
              "<p>1000 rows × 2 columns</p>\n",
              "</div>"
            ],
            "text/plain": [
              "     alpha   akurasi\n",
              "0    0.001  0.977022\n",
              "1    0.002  0.977616\n",
              "2    0.003  0.977418\n",
              "3    0.004  0.977418\n",
              "4    0.005  0.977418\n",
              "..     ...       ...\n",
              "995  0.996  0.975438\n",
              "996  0.997  0.975438\n",
              "997  0.998  0.975438\n",
              "998  0.999  0.975438\n",
              "999  1.000  0.975438\n",
              "\n",
              "[1000 rows x 2 columns]"
            ]
          },
          "metadata": {
            "tags": []
          },
          "execution_count": 7
        }
      ]
    },
    {
      "cell_type": "code",
      "metadata": {
        "id": "3pOaDl9ueyU1",
        "colab_type": "code",
        "colab": {},
        "outputId": "795876ac-46e5-4c47-c1c1-b506ee7e6bdd"
      },
      "source": [
        "print(alpha_list[index])\n",
        "print(akurasi[index])"
      ],
      "execution_count": 0,
      "outputs": [
        {
          "output_type": "stream",
          "text": [
            "0.002\n",
            "0.9776162973440201\n"
          ],
          "name": "stdout"
        }
      ]
    },
    {
      "cell_type": "code",
      "metadata": {
        "id": "AcnWui8HeyU5",
        "colab_type": "code",
        "colab": {},
        "outputId": "e55174c2-a318-4879-ae1b-063bbc270b2f"
      },
      "source": [
        "print(alpha_list[index])\n",
        "print(akurasi[index])"
      ],
      "execution_count": 0,
      "outputs": [
        {
          "output_type": "stream",
          "text": [
            "0.002\n",
            "0.9776162973440201\n"
          ],
          "name": "stdout"
        }
      ]
    },
    {
      "cell_type": "markdown",
      "metadata": {
        "id": "Ko5PkMeReyU7",
        "colab_type": "text"
      },
      "source": [
        "# Menyimpan Model"
      ]
    },
    {
      "cell_type": "code",
      "metadata": {
        "id": "Pyx7JAKTeyU8",
        "colab_type": "code",
        "colab": {},
        "outputId": "7c0e83c8-2979-4b1d-9f18-9815c6ccf59c"
      },
      "source": [
        "clf.set_params(alpha=alpha_list[index])\n",
        "clf.fit(X, y)\n",
        "dump(clf, \"model/mnb.m\")"
      ],
      "execution_count": 0,
      "outputs": [
        {
          "output_type": "execute_result",
          "data": {
            "text/plain": [
              "['model/mnb.m']"
            ]
          },
          "metadata": {
            "tags": []
          },
          "execution_count": 10
        }
      ]
    },
    {
      "cell_type": "code",
      "metadata": {
        "id": "agL41pc5eyU-",
        "colab_type": "code",
        "colab": {}
      },
      "source": [
        "# p = clf.predict(X)"
      ],
      "execution_count": 0,
      "outputs": []
    },
    {
      "cell_type": "code",
      "metadata": {
        "id": "jrJROjHJeyVB",
        "colab_type": "code",
        "colab": {}
      },
      "source": [
        "# ditt = {\n",
        "#     \"Prediksi\":p,\n",
        "#     \"label\":label,\n",
        "#     \"komentar\":komentar\n",
        "# }\n",
        "# # index = akurasi.index(max(akurasi))\n",
        "# akk = pd.DataFrame.from_dict(ditt)"
      ],
      "execution_count": 0,
      "outputs": []
    },
    {
      "cell_type": "code",
      "metadata": {
        "id": "7T8tfrVeeyVD",
        "colab_type": "code",
        "colab": {}
      },
      "source": [
        "# akk.to_excel(\"coba_.xlsx\")"
      ],
      "execution_count": 0,
      "outputs": []
    },
    {
      "cell_type": "code",
      "metadata": {
        "id": "arHIbq-ZeyVG",
        "colab_type": "code",
        "colab": {}
      },
      "source": [
        ""
      ],
      "execution_count": 0,
      "outputs": []
    }
  ]
}