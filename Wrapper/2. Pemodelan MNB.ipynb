{
 "cells": [
  {
   "cell_type": "markdown",
   "metadata": {},
   "source": [
    "   1  : 1.58,\n",
    "   0.1: 2.71,\n",
    "  0.05: 3.84, \n",
    "  0.01: 6.63,\n",
    " 0.005: 7.88, \n",
    " 0.001: 10.83"
   ]
  },
  {
   "cell_type": "code",
   "execution_count": 35,
   "metadata": {},
   "outputs": [],
   "source": [
    "# 2.71 - 1.13"
   ]
  },
  {
   "cell_type": "code",
   "execution_count": 2,
   "metadata": {},
   "outputs": [],
   "source": [
    "import pandas as pd\n",
    "import numpy as np\n",
    "from joblib import dump\n",
    "\n",
    "from chi import square as cs"
   ]
  },
  {
   "cell_type": "code",
   "execution_count": 19,
   "metadata": {},
   "outputs": [
    {
     "name": "stdout",
     "output_type": "stream",
     "text": [
      "300\n"
     ]
    },
    {
     "data": {
      "text/html": [
       "<div>\n",
       "<style scoped>\n",
       "    .dataframe tbody tr th:only-of-type {\n",
       "        vertical-align: middle;\n",
       "    }\n",
       "\n",
       "    .dataframe tbody tr th {\n",
       "        vertical-align: top;\n",
       "    }\n",
       "\n",
       "    .dataframe thead th {\n",
       "        text-align: right;\n",
       "    }\n",
       "</style>\n",
       "<table border=\"1\" class=\"dataframe\">\n",
       "  <thead>\n",
       "    <tr style=\"text-align: right;\">\n",
       "      <th></th>\n",
       "      <th>Unnamed: 0</th>\n",
       "      <th>Unnamed: 1</th>\n",
       "      <th>komentar</th>\n",
       "      <th>label</th>\n",
       "    </tr>\n",
       "  </thead>\n",
       "  <tbody>\n",
       "    <tr>\n",
       "      <th>0</th>\n",
       "      <td>482.0</td>\n",
       "      <td>175</td>\n",
       "      <td>theme line exo bts 1d cameron dallas jb zayn m...</td>\n",
       "      <td>non spam</td>\n",
       "    </tr>\n",
       "    <tr>\n",
       "      <th>1</th>\n",
       "      <td>468.0</td>\n",
       "      <td>268</td>\n",
       "      <td>case custom 25k pakai gambar apa suka foto kar...</td>\n",
       "      <td>spam</td>\n",
       "    </tr>\n",
       "    <tr>\n",
       "      <th>2</th>\n",
       "      <td>988.0</td>\n",
       "      <td>136</td>\n",
       "      <td>pak eko hormat belah istri sah udah liat jadi ...</td>\n",
       "      <td>non spam</td>\n",
       "    </tr>\n",
       "    <tr>\n",
       "      <th>3</th>\n",
       "      <td>1142.0</td>\n",
       "      <td>478</td>\n",
       "      <td>thenz ka berkat pakai produk gemuk badan aku j...</td>\n",
       "      <td>spam</td>\n",
       "    </tr>\n",
       "    <tr>\n",
       "      <th>4</th>\n",
       "      <td>181.0</td>\n",
       "      <td>405</td>\n",
       "      <td>v vonny vebby m marshanda y yasmin l luthya p ...</td>\n",
       "      <td>non spam</td>\n",
       "    </tr>\n",
       "    <tr>\n",
       "      <th>...</th>\n",
       "      <td>...</td>\n",
       "      <td>...</td>\n",
       "      <td>...</td>\n",
       "      <td>...</td>\n",
       "    </tr>\n",
       "    <tr>\n",
       "      <th>295</th>\n",
       "      <td>407.0</td>\n",
       "      <td>424</td>\n",
       "      <td>siapa blg mslh blg mslah cma ksih sran aja alx...</td>\n",
       "      <td>non spam</td>\n",
       "    </tr>\n",
       "    <tr>\n",
       "      <th>296</th>\n",
       "      <td>384.0</td>\n",
       "      <td>250</td>\n",
       "      <td>sllu ajar usaha tahan kualitas costumer neng s...</td>\n",
       "      <td>spam</td>\n",
       "    </tr>\n",
       "    <tr>\n",
       "      <th>297</th>\n",
       "      <td>1126.0</td>\n",
       "      <td>103</td>\n",
       "      <td>aasi ane o a uda nenain odu yan sana eui eecay...</td>\n",
       "      <td>spam</td>\n",
       "    </tr>\n",
       "    <tr>\n",
       "      <th>298</th>\n",
       "      <td>632.0</td>\n",
       "      <td>16</td>\n",
       "      <td>awal ny ga percaya aku coba nyata hasil cepet ...</td>\n",
       "      <td>spam</td>\n",
       "    </tr>\n",
       "    <tr>\n",
       "      <th>299</th>\n",
       "      <td>NaN</td>\n",
       "      <td>4756</td>\n",
       "      <td>film rillis tgl teh fan ily from 3800ft sama k...</td>\n",
       "      <td>non spam</td>\n",
       "    </tr>\n",
       "  </tbody>\n",
       "</table>\n",
       "<p>300 rows × 4 columns</p>\n",
       "</div>"
      ],
      "text/plain": [
       "     Unnamed: 0  Unnamed: 1  \\\n",
       "0         482.0         175   \n",
       "1         468.0         268   \n",
       "2         988.0         136   \n",
       "3        1142.0         478   \n",
       "4         181.0         405   \n",
       "..          ...         ...   \n",
       "295       407.0         424   \n",
       "296       384.0         250   \n",
       "297      1126.0         103   \n",
       "298       632.0          16   \n",
       "299         NaN        4756   \n",
       "\n",
       "                                              komentar     label  \n",
       "0    theme line exo bts 1d cameron dallas jb zayn m...  non spam  \n",
       "1    case custom 25k pakai gambar apa suka foto kar...      spam  \n",
       "2    pak eko hormat belah istri sah udah liat jadi ...  non spam  \n",
       "3    thenz ka berkat pakai produk gemuk badan aku j...      spam  \n",
       "4    v vonny vebby m marshanda y yasmin l luthya p ...  non spam  \n",
       "..                                                 ...       ...  \n",
       "295  siapa blg mslh blg mslah cma ksih sran aja alx...  non spam  \n",
       "296  sllu ajar usaha tahan kualitas costumer neng s...      spam  \n",
       "297  aasi ane o a uda nenain odu yan sana eui eecay...      spam  \n",
       "298  awal ny ga percaya aku coba nyata hasil cepet ...      spam  \n",
       "299  film rillis tgl teh fan ily from 3800ft sama k...  non spam  \n",
       "\n",
       "[300 rows x 4 columns]"
      ]
     },
     "execution_count": 19,
     "metadata": {},
     "output_type": "execute_result"
    }
   ],
   "source": [
    "data = pd.read_excel(\"komentar/data_uji_1255_bersih.xlsx\")#  data_cleanU1\n",
    "# data = data[:100]\n",
    "komentar = data.komentar.tolist()\n",
    "label = data.label.tolist()\n",
    "\n",
    "# data.tail()\n",
    "\n",
    "# data = pd.read_excel(\"komentar/data_uji_1255_bersih.xlsx\")\n",
    "# komentar += data.komentar.tolist()\n",
    "# label += data.label.tolist()\n",
    "\n",
    "y = np.array(label)\n",
    "print(len(y))\n",
    "data"
   ]
  },
  {
   "cell_type": "code",
   "execution_count": 20,
   "metadata": {},
   "outputs": [
    {
     "name": "stdout",
     "output_type": "stream",
     "text": [
      "(300, 3435)\n"
     ]
    }
   ],
   "source": [
    "from sklearn.feature_extraction.text import TfidfVectorizer\n",
    "\n",
    "vectorizer = TfidfVectorizer()#\n",
    "X = vectorizer.fit_transform(komentar)\n",
    "save = vectorizer.fit(komentar)\n",
    "dump(save, \"model/tfidf.w\")\n",
    "# print(vectorizer.get_feature_names())\n",
    "fitur = vectorizer.get_feature_names()\n",
    "print(X.shape)"
   ]
  },
  {
   "cell_type": "code",
   "execution_count": 21,
   "metadata": {},
   "outputs": [],
   "source": [
    "from sklearn.naive_bayes import MultinomialNB\n",
    "clf = MultinomialNB()"
   ]
  },
  {
   "cell_type": "markdown",
   "metadata": {},
   "source": [
    "# Ekstraksi dan Seleksi Fitur"
   ]
  },
  {
   "cell_type": "code",
   "execution_count": null,
   "metadata": {},
   "outputs": [
    {
     "name": "stdout",
     "output_type": "stream",
     "text": [
      "&\n"
     ]
    }
   ],
   "source": [
    "from mlxtend.feature_selection import SequentialFeatureSelector\n",
    "          \n",
    "# import the algorithm you want to evaluate on your features.\n",
    "from sklearn.naive_bayes import MultinomialNB\n",
    "\n",
    "# create the SequentialFeatureSelector object, and configure the parameters.\n",
    "efs = SequentialFeatureSelector(MultinomialNB(), \n",
    "           k_features=1500, \n",
    "           forward=True, \n",
    "           floating=False,\n",
    "           scoring='accuracy',\n",
    "           cv=5)\n",
    "\n",
    "print(\"&\")\n",
    "# fit the object to the training data.\n",
    "efs = efs.fit(X, y)\n",
    "print(\"selesai\")"
   ]
  },
  {
   "cell_type": "code",
   "execution_count": null,
   "metadata": {},
   "outputs": [],
   "source": [
    "# print the selected features.\n",
    "# selected_features = x_train.columns[list(efs.k_feature_idx_)]\n",
    "# print(selected_features)\n",
    "\n",
    "# # print the final prediction score.\n",
    "# print(efs.k_score_)\n",
    "\n",
    "# # transform our data to the newly selected features.\n",
    "# x_train_sfs = efs.transform(x_train)\n",
    "# x_test_sfs = efs.transform(x_test)"
   ]
  },
  {
   "cell_type": "code",
   "execution_count": 10,
   "metadata": {},
   "outputs": [
    {
     "data": {
      "text/plain": [
       "(0, 1, 2, 3, 4, 5, 6, 7, 8, 9)"
      ]
     },
     "execution_count": 10,
     "metadata": {},
     "output_type": "execute_result"
    }
   ],
   "source": [
    "efs.k_feature_idx_"
   ]
  },
  {
   "cell_type": "code",
   "execution_count": 12,
   "metadata": {},
   "outputs": [],
   "source": [
    "index_fitur_terbaik = efs.k_feature_idx_"
   ]
  },
  {
   "cell_type": "code",
   "execution_count": 15,
   "metadata": {},
   "outputs": [
    {
     "data": {
      "text/plain": [
       "array(['00', '000iphone', '000oppo', '000samsung', '000vivo', '000xiaomi',\n",
       "       '0223', '0388', '0540', '080'], dtype='<U35')"
      ]
     },
     "execution_count": 15,
     "metadata": {},
     "output_type": "execute_result"
    }
   ],
   "source": [
    "np.array(fitur)[list(index_fitur_terbaik)]"
   ]
  },
  {
   "cell_type": "code",
   "execution_count": 3,
   "metadata": {},
   "outputs": [],
   "source": [
    "# sf = cs.ChiSquare(alpha = 0.1)\n",
    "# sf.find_best_features(komentar, label, fitur = None)"
   ]
  },
  {
   "cell_type": "code",
   "execution_count": null,
   "metadata": {},
   "outputs": [],
   "source": []
  },
  {
   "cell_type": "code",
   "execution_count": 4,
   "metadata": {},
   "outputs": [
    {
     "name": "stdout",
     "output_type": "stream",
     "text": [
      "jumlah fitur terbaik: 2749 dari 15136 fitur\n"
     ]
    }
   ],
   "source": [
    "# print(\"jumlah fitur terbaik:\",len(sf.best_features),\"dari\",len(sf.fitur), \"fitur\")\n",
    "# best_features = sf.best_features"
   ]
  },
  {
   "cell_type": "markdown",
   "metadata": {},
   "source": [
    "# Pemodelan"
   ]
  },
  {
   "cell_type": "markdown",
   "metadata": {},
   "source": [
    "## TF-IDF"
   ]
  },
  {
   "cell_type": "code",
   "execution_count": 5,
   "metadata": {},
   "outputs": [
    {
     "name": "stdout",
     "output_type": "stream",
     "text": [
      "(5047, 2749)\n"
     ]
    }
   ],
   "source": [
    "# from sklearn.feature_extraction.text import TfidfVectorizer\n",
    "\n",
    "# vectorizer = TfidfVectorizer(vocabulary = best_features)#\n",
    "# X = vectorizer.fit_transform(komentar)\n",
    "# save = vectorizer.fit(komentar)\n",
    "# dump(save, \"model/tfidf.w\")\n",
    "# # print(vectorizer.get_feature_names())\n",
    "# fitur = vectorizer.get_feature_names()\n",
    "# print(X.shape)"
   ]
  },
  {
   "cell_type": "markdown",
   "metadata": {},
   "source": [
    "## Pemodelan MNB "
   ]
  },
  {
   "cell_type": "code",
   "execution_count": 6,
   "metadata": {},
   "outputs": [],
   "source": [
    "from sklearn.naive_bayes import MultinomialNB\n",
    "clf = MultinomialNB()"
   ]
  },
  {
   "cell_type": "markdown",
   "metadata": {},
   "source": [
    "# Pemodelan dan Validasi Model"
   ]
  },
  {
   "cell_type": "code",
   "execution_count": 7,
   "metadata": {},
   "outputs": [
    {
     "name": "stdout",
     "output_type": "stream",
     "text": [
      "...................................................................................................\n",
      "...................................................................................................\n",
      "...................................................................................................\n",
      "...................................................................................................\n",
      "...................................................................................................\n",
      "...................................................................................................\n",
      "...................................................................................................\n",
      "...................................................................................................\n",
      "...................................................................................................\n",
      "...................................................................................................\n"
     ]
    },
    {
     "data": {
      "text/html": [
       "<div>\n",
       "<style scoped>\n",
       "    .dataframe tbody tr th:only-of-type {\n",
       "        vertical-align: middle;\n",
       "    }\n",
       "\n",
       "    .dataframe tbody tr th {\n",
       "        vertical-align: top;\n",
       "    }\n",
       "\n",
       "    .dataframe thead th {\n",
       "        text-align: right;\n",
       "    }\n",
       "</style>\n",
       "<table border=\"1\" class=\"dataframe\">\n",
       "  <thead>\n",
       "    <tr style=\"text-align: right;\">\n",
       "      <th></th>\n",
       "      <th>alpha</th>\n",
       "      <th>akurasi</th>\n",
       "    </tr>\n",
       "  </thead>\n",
       "  <tbody>\n",
       "    <tr>\n",
       "      <th>0</th>\n",
       "      <td>0.001</td>\n",
       "      <td>0.977022</td>\n",
       "    </tr>\n",
       "    <tr>\n",
       "      <th>1</th>\n",
       "      <td>0.002</td>\n",
       "      <td>0.977616</td>\n",
       "    </tr>\n",
       "    <tr>\n",
       "      <th>2</th>\n",
       "      <td>0.003</td>\n",
       "      <td>0.977418</td>\n",
       "    </tr>\n",
       "    <tr>\n",
       "      <th>3</th>\n",
       "      <td>0.004</td>\n",
       "      <td>0.977418</td>\n",
       "    </tr>\n",
       "    <tr>\n",
       "      <th>4</th>\n",
       "      <td>0.005</td>\n",
       "      <td>0.977418</td>\n",
       "    </tr>\n",
       "    <tr>\n",
       "      <th>...</th>\n",
       "      <td>...</td>\n",
       "      <td>...</td>\n",
       "    </tr>\n",
       "    <tr>\n",
       "      <th>995</th>\n",
       "      <td>0.996</td>\n",
       "      <td>0.975438</td>\n",
       "    </tr>\n",
       "    <tr>\n",
       "      <th>996</th>\n",
       "      <td>0.997</td>\n",
       "      <td>0.975438</td>\n",
       "    </tr>\n",
       "    <tr>\n",
       "      <th>997</th>\n",
       "      <td>0.998</td>\n",
       "      <td>0.975438</td>\n",
       "    </tr>\n",
       "    <tr>\n",
       "      <th>998</th>\n",
       "      <td>0.999</td>\n",
       "      <td>0.975438</td>\n",
       "    </tr>\n",
       "    <tr>\n",
       "      <th>999</th>\n",
       "      <td>1.000</td>\n",
       "      <td>0.975438</td>\n",
       "    </tr>\n",
       "  </tbody>\n",
       "</table>\n",
       "<p>1000 rows × 2 columns</p>\n",
       "</div>"
      ],
      "text/plain": [
       "     alpha   akurasi\n",
       "0    0.001  0.977022\n",
       "1    0.002  0.977616\n",
       "2    0.003  0.977418\n",
       "3    0.004  0.977418\n",
       "4    0.005  0.977418\n",
       "..     ...       ...\n",
       "995  0.996  0.975438\n",
       "996  0.997  0.975438\n",
       "997  0.998  0.975438\n",
       "998  0.999  0.975438\n",
       "999  1.000  0.975438\n",
       "\n",
       "[1000 rows x 2 columns]"
      ]
     },
     "execution_count": 7,
     "metadata": {},
     "output_type": "execute_result"
    }
   ],
   "source": [
    "from sklearn.model_selection import StratifiedKFold\n",
    "from sklearn.metrics import accuracy_score\n",
    "\n",
    "skf = StratifiedKFold(n_splits=10)\n",
    "skf.get_n_splits(X, y)\n",
    "\n",
    "start = 0.001\n",
    "stop = 1\n",
    "step = start\n",
    "alpha_list = np.arange(start,stop+step,step)\n",
    "# print(alpha_list)\n",
    "akurasi = list()\n",
    "\n",
    "ix = 0 #just counter\n",
    "for alpha in alpha_list:\n",
    "    clf.set_params(alpha=alpha)\n",
    "    temp_akurasi = list()\n",
    "    for train_index, test_index in skf.split(X, y):\n",
    "    #     print(\"TRAIN:\", train_index, \"TEST:\", test_index)\n",
    "        X_train, X_test = X[train_index], X[test_index]\n",
    "        y_train, y_test = y[train_index], y[test_index]\n",
    "        \n",
    "        #latih model\n",
    "        clf.fit(X_train,y_train)\n",
    "        \n",
    "        #prediksi\n",
    "        y_pred = clf.predict(X_test)\n",
    "        temp_akurasi.append(accuracy_score(y_test, y_pred))\n",
    "    rerata_akurasi = sum(temp_akurasi)/len(temp_akurasi)\n",
    "    akurasi.append(rerata_akurasi)\n",
    "#     print('alpha   :',alpha)\n",
    "#     print('     akurasi :',rerata_akurasi)\n",
    "#     print(\"=\"*100)\n",
    "    ix +=1\n",
    "    if ix%100 !=0:\n",
    "        print(\".\", end=\"\")\n",
    "    else:\n",
    "#         print(alpha, ' | ', rerata_akurasi)\n",
    "        print(\"\")\n",
    "\n",
    "        pass\n",
    "\n",
    "ditt = {\n",
    "    \"alpha\":alpha_list,\n",
    "    \"akurasi\":akurasi\n",
    "}\n",
    "index = akurasi.index(max(akurasi))\n",
    "acc = pd.DataFrame.from_dict(ditt)\n",
    "acc"
   ]
  },
  {
   "cell_type": "code",
   "execution_count": 8,
   "metadata": {},
   "outputs": [
    {
     "name": "stdout",
     "output_type": "stream",
     "text": [
      "0.002\n",
      "0.9776162973440201\n"
     ]
    }
   ],
   "source": [
    "print(alpha_list[index])\n",
    "print(akurasi[index])"
   ]
  },
  {
   "cell_type": "code",
   "execution_count": 9,
   "metadata": {},
   "outputs": [
    {
     "name": "stdout",
     "output_type": "stream",
     "text": [
      "0.002\n",
      "0.9776162973440201\n"
     ]
    }
   ],
   "source": [
    "print(alpha_list[index])\n",
    "print(akurasi[index])"
   ]
  },
  {
   "cell_type": "markdown",
   "metadata": {},
   "source": [
    "# Menyimpan Model"
   ]
  },
  {
   "cell_type": "code",
   "execution_count": 10,
   "metadata": {},
   "outputs": [
    {
     "data": {
      "text/plain": [
       "['model/mnb.m']"
      ]
     },
     "execution_count": 10,
     "metadata": {},
     "output_type": "execute_result"
    }
   ],
   "source": [
    "clf.set_params(alpha=alpha_list[index])\n",
    "clf.fit(X, y)\n",
    "dump(clf, \"model/mnb.m\")"
   ]
  },
  {
   "cell_type": "code",
   "execution_count": 15,
   "metadata": {},
   "outputs": [],
   "source": [
    "# p = clf.predict(X)"
   ]
  },
  {
   "cell_type": "code",
   "execution_count": 30,
   "metadata": {},
   "outputs": [],
   "source": [
    "# ditt = {\n",
    "#     \"Prediksi\":p,\n",
    "#     \"label\":label,\n",
    "#     \"komentar\":komentar\n",
    "# }\n",
    "# # index = akurasi.index(max(akurasi))\n",
    "# akk = pd.DataFrame.from_dict(ditt)"
   ]
  },
  {
   "cell_type": "code",
   "execution_count": 31,
   "metadata": {},
   "outputs": [],
   "source": [
    "# akk.to_excel(\"coba_.xlsx\")"
   ]
  },
  {
   "cell_type": "code",
   "execution_count": null,
   "metadata": {},
   "outputs": [],
   "source": []
  }
 ],
 "metadata": {
  "kernelspec": {
   "display_name": "Python 3",
   "language": "python",
   "name": "python3"
  },
  "language_info": {
   "codemirror_mode": {
    "name": "ipython",
    "version": 3
   },
   "file_extension": ".py",
   "mimetype": "text/x-python",
   "name": "python",
   "nbconvert_exporter": "python",
   "pygments_lexer": "ipython3",
   "version": "3.7.6"
  }
 },
 "nbformat": 4,
 "nbformat_minor": 2
}
