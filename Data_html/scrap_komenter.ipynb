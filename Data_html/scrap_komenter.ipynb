{
 "cells": [
  {
   "cell_type": "code",
   "execution_count": 1,
   "metadata": {},
   "outputs": [],
   "source": [
    "from scrap_instagram import instagram\n",
    "import pandas as pd"
   ]
  },
  {
   "cell_type": "code",
   "execution_count": 2,
   "metadata": {},
   "outputs": [],
   "source": [
    "file = \"data/2 jokowi.html\"\n",
    "panjang,hasil = instagram.get_comments(file)"
   ]
  },
  {
   "cell_type": "code",
   "execution_count": 3,
   "metadata": {},
   "outputs": [],
   "source": [
    "# instagram.panjang_komentar"
   ]
  },
  {
   "cell_type": "code",
   "execution_count": 4,
   "metadata": {},
   "outputs": [
    {
     "data": {
      "text/html": [
       "<div>\n",
       "<style scoped>\n",
       "    .dataframe tbody tr th:only-of-type {\n",
       "        vertical-align: middle;\n",
       "    }\n",
       "\n",
       "    .dataframe tbody tr th {\n",
       "        vertical-align: top;\n",
       "    }\n",
       "\n",
       "    .dataframe thead th {\n",
       "        text-align: right;\n",
       "    }\n",
       "</style>\n",
       "<table border=\"1\" class=\"dataframe\">\n",
       "  <thead>\n",
       "    <tr style=\"text-align: right;\">\n",
       "      <th></th>\n",
       "      <th>panjang</th>\n",
       "      <th>komentar</th>\n",
       "    </tr>\n",
       "  </thead>\n",
       "  <tbody>\n",
       "    <tr>\n",
       "      <th>0</th>\n",
       "      <td>65</td>\n",
       "      <td>Pak bagaimana dgn kami yg mahasiswa/i semester...</td>\n",
       "    </tr>\n",
       "    <tr>\n",
       "      <th>1</th>\n",
       "      <td>34</td>\n",
       "      <td>Mohon maaf sebelumnya, bagaimana  nasib kami p...</td>\n",
       "    </tr>\n",
       "    <tr>\n",
       "      <th>2</th>\n",
       "      <td>97</td>\n",
       "      <td>Yth. Bapak Presiden Joko Widodo. Pandemi covid...</td>\n",
       "    </tr>\n",
       "    <tr>\n",
       "      <th>3</th>\n",
       "      <td>22</td>\n",
       "      <td>Kalo mahasiswa semester akhir gimana ni pak? Y...</td>\n",
       "    </tr>\n",
       "    <tr>\n",
       "      <th>4</th>\n",
       "      <td>33</td>\n",
       "      <td>Tolong di diskusikan lagi untuk kami Mahasiswa...</td>\n",
       "    </tr>\n",
       "    <tr>\n",
       "      <th>...</th>\n",
       "      <td>...</td>\n",
       "      <td>...</td>\n",
       "    </tr>\n",
       "    <tr>\n",
       "      <th>125</th>\n",
       "      <td>2</td>\n",
       "      <td>@suaaa12_  ytwaa</td>\n",
       "    </tr>\n",
       "    <tr>\n",
       "      <th>126</th>\n",
       "      <td>17</td>\n",
       "      <td>Perbanyak dirumah....yg dpt bantuan beras lmyn...</td>\n",
       "    </tr>\n",
       "    <tr>\n",
       "      <th>127</th>\n",
       "      <td>49</td>\n",
       "      <td>Assalamualaikum bapak presiden ku, kami mahasi...</td>\n",
       "    </tr>\n",
       "    <tr>\n",
       "      <th>128</th>\n",
       "      <td>31</td>\n",
       "      <td>Apa lagi yang subjek skripsinya di balai pembi...</td>\n",
       "    </tr>\n",
       "    <tr>\n",
       "      <th>129</th>\n",
       "      <td>5</td>\n",
       "      <td>Wait cak sma aku.. wkwk</td>\n",
       "    </tr>\n",
       "  </tbody>\n",
       "</table>\n",
       "<p>130 rows × 2 columns</p>\n",
       "</div>"
      ],
      "text/plain": [
       "     panjang                                           komentar\n",
       "0         65  Pak bagaimana dgn kami yg mahasiswa/i semester...\n",
       "1         34  Mohon maaf sebelumnya, bagaimana  nasib kami p...\n",
       "2         97  Yth. Bapak Presiden Joko Widodo. Pandemi covid...\n",
       "3         22  Kalo mahasiswa semester akhir gimana ni pak? Y...\n",
       "4         33  Tolong di diskusikan lagi untuk kami Mahasiswa...\n",
       "..       ...                                                ...\n",
       "125        2                                   @suaaa12_  ytwaa\n",
       "126       17  Perbanyak dirumah....yg dpt bantuan beras lmyn...\n",
       "127       49  Assalamualaikum bapak presiden ku, kami mahasi...\n",
       "128       31  Apa lagi yang subjek skripsinya di balai pembi...\n",
       "129        5                            Wait cak sma aku.. wkwk\n",
       "\n",
       "[130 rows x 2 columns]"
      ]
     },
     "execution_count": 4,
     "metadata": {},
     "output_type": "execute_result"
    }
   ],
   "source": [
    "dict_ = {\n",
    "    \"panjang\":panjang,\n",
    "    \"komentar\":hasil\n",
    "}\n",
    "df = pd.DataFrame.from_dict(dict_)\n",
    "df.to_excel(\" \".join(file.replace(\"/\",\"_\").split(\".\")[:-1])+\".xlsx\")\n",
    "df"
   ]
  },
  {
   "cell_type": "code",
   "execution_count": null,
   "metadata": {},
   "outputs": [],
   "source": []
  }
 ],
 "metadata": {
  "kernelspec": {
   "display_name": "Python 3",
   "language": "python",
   "name": "python3"
  },
  "language_info": {
   "codemirror_mode": {
    "name": "ipython",
    "version": 3
   },
   "file_extension": ".py",
   "mimetype": "text/x-python",
   "name": "python",
   "nbconvert_exporter": "python",
   "pygments_lexer": "ipython3",
   "version": "3.7.6"
  }
 },
 "nbformat": 4,
 "nbformat_minor": 4
}
